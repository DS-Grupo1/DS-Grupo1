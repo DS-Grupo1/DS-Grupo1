{
  "nbformat": 4,
  "nbformat_minor": 0,
  "metadata": {
    "colab": {
      "name": "Ejercicio_Parcial_1_Bimestre.ipynb",
      "provenance": []
    },
    "kernelspec": {
      "name": "python3",
      "display_name": "Python 3"
    },
    "language_info": {
      "name": "python"
    }
  },
  "cells": [
    {
      "cell_type": "markdown",
      "metadata": {
        "id": "0ZBHM9KbFmxq"
      },
      "source": [
        "# Ejercicio Tipo Parcial\n",
        "\n",
        "El ministerio de salud de la nación les solicita realizar un programa que les permita visualizar el estado de ciudadanos infectados con COVID-19 en todas sus variantes en un rango de fecha determinado y comparar esos resultados con los niveles de vacunación.\n",
        "A su vez, se les solicita que realicen una compración con otro(s) país(es). (Seleccionar como máximo 2 adicionales)\n",
        "\n",
        "Para ello, un analista le provee los siguientes archivos.\n",
        "\n",
        "[Vacunación Global](https://raw.githubusercontent.com/al34n1x/DataScience/master/100.Examen/2022/country_vaccinations.csv)\n",
        "\n",
        "[Casos COVID Global](https://raw.githubusercontent.com/al34n1x/DataScience/master/100.Examen/2022/owid-covid-data.csv)\n",
        "\n",
        "\n",
        "Consideraciones:\n",
        "\n",
        "* Rango de Fechas desde 01/01/2021 a 15/01/2021\n",
        "* Importar los archivos y trabajarlos como diccionarios o dataframes. El caracter delimitador de los archivos es el **';'**\n",
        "* Realizar al menos 4 charts que representen la información solicitada\n",
        "* Utilizar funciones\n",
        "* Generar un archivo que posea la siguiente estructura de datos dscriminado por el rango de fechas.\n",
        "```\n",
        "ID:{\n",
        "'país':value,\n",
        "'fecha':value,\n",
        "'nuevos_casos':value,\n",
        "'nuevas_muertes':value,\n",
        "'total_vacunados':value\n",
        "}\n",
        "```\n",
        "* Documentar cada paso con bloques de texto adicionalmente a notas en el código\n",
        "* Presentar por pantalla el total acumulado de infectados y de vacunados en el rango de fechas solicitado\n",
        "* Proveer una breve conclusión como parte del análisis \n",
        "\n",
        "\n",
        "\n"
      ]
    },
    {
      "cell_type": "markdown",
      "metadata": {
        "id": "1rYMsEfVFvPn"
      },
      "source": [
        "## TIPS"
      ]
    },
    {
      "cell_type": "code",
      "source": [
        "#from google.colab import drive\n",
        "#drive.mount('/content/drive')"
      ],
      "metadata": {
        "colab": {
          "base_uri": "https://localhost:8080/"
        },
        "id": "18crpkW8nm_n",
        "outputId": "51e31236-cd5a-4e6d-fdef-4f5bf1019ffd"
      },
      "execution_count": 69,
      "outputs": [
        {
          "output_type": "stream",
          "name": "stdout",
          "text": [
            "Mounted at /content/drive\n"
          ]
        }
      ]
    },
    {
      "cell_type": "code",
      "metadata": {
        "id": "aTZkn_AvFld9"
      },
      "source": [
        "import csv\n",
        "file = ('./sample_data/country_vaccinations.csv')\n",
        "covid_vaccines={}\n",
        "\n",
        "with open(file, mode='r') as csv_file:\n",
        "    csv_reader = csv.DictReader(csv_file,delimiter=';') #Delimitador ;\n",
        "    line_count = 0\n",
        "    for row in csv_reader:\n",
        "      print(row)"
      ],
      "execution_count": null,
      "outputs": []
    },
    {
      "cell_type": "code",
      "metadata": {
        "id": "D2p6WrXIFsHi"
      },
      "source": [
        "import csv\n",
        "file = ('./sample_data/owid-covid-data.csv')\n",
        "#file = ('https://github.com/al34n1x/DataScience/tree/master/100.Examen/2022/owid-covid-data.csv')\n",
        "covid_cases={}\n",
        "\n",
        "with open(file, mode='r') as csv_file:\n",
        "    csv_reader = csv.DictReader(csv_file,delimiter=';')\n",
        "    line_count = 0\n",
        "    for row in csv_reader:\n",
        "      print(row)"
      ],
      "execution_count": null,
      "outputs": []
    },
    {
      "cell_type": "code",
      "metadata": {
        "id": "bg6-mLepFtzy"
      },
      "source": [
        "var = '1.0'\n",
        "\n",
        "split = var.split('.')[0] # Dividir cadena de caracteres para eliminar los caracteres detras del .\n",
        "\n",
        "print(var)\n",
        "print(int(split))"
      ],
      "execution_count": null,
      "outputs": []
    },
    {
      "cell_type": "markdown",
      "source": [
        "---\n"
      ],
      "metadata": {
        "id": "3ti1yO9zlVpI"
      }
    },
    {
      "cell_type": "markdown",
      "source": [
        "## Carga de datos"
      ],
      "metadata": {
        "id": "aQneOoJ_krvJ"
      }
    },
    {
      "cell_type": "code",
      "source": [
        "from pandas.core.indexes.datetimes import date_range\n",
        "# Ingrese código aquí\n",
        "import pandas as pd\n",
        "\n",
        "vacunacion = pd.read_csv('https://raw.githubusercontent.com/al34n1x/DataScience/master/100.Examen/2022/country_vaccinations.csv'\n",
        "  , delimiter=';'\n",
        "  )\n",
        "#vacunacion.head()\n",
        "\n",
        "vacunacion = vacunacion.fillna ({\"daily_vaccinations\": 0})\n",
        "#print(vacunacion[vacunacion['iso_code']=='ALB'])\n",
        "\n",
        "vacunacion['date'] = pd.to_datetime(vacunacion['date'], dayfirst=True)\n",
        "#print(vacunacion)\n",
        "\n",
        "mask = (vacunacion['date'] >= '2021-01-01') & (vacunacion['date'] <= '2021-01-15')\n",
        "vacunacion_filt=vacunacion.loc[mask]\n",
        "\n",
        "#'ALB'\n",
        "#vacunacion_filt[vacunacion_filt['iso_code']=='BMU']\n",
        "\n",
        "#vacunacion_filt.to_csv('./sample_data/prueba_covid.csv')\n"
      ],
      "metadata": {
        "id": "_J96onT_lCw9"
      },
      "execution_count": 70,
      "outputs": []
    },
    {
      "cell_type": "code",
      "source": [
        "import pandas as pd\n",
        "covid_global = pd.read_csv('https://raw.githubusercontent.com/al34n1x/DataScience/master/100.Examen/2022/owid-covid-data.csv'\n",
        "  , delimiter=',')\n",
        "covid_global.head()\n",
        "\n",
        "#covid_global = covid_global.fillna ({\"\": 0})\n",
        "#print(vacunacion[vacunacion['iso_code']=='ALB'])\n",
        "\n",
        "covid_global['date'] = pd.to_datetime(covid_global['date'], dayfirst=True)\n",
        "#print(covid_global)\n",
        "\n",
        "mask = (covid_global['date'] >= '2021-01-01') & (covid_global['date'] <= '2021-01-15')\n",
        "covid_global_filt=covid_global.loc[mask]\n",
        "\n",
        "#'ALB'\n",
        "#vacunacion_filt[vacunacion_filt['iso_code']=='BMU']\n",
        "\n",
        "covid_global_col=pd.DataFrame(covid_global_filt, columns=['iso_code','continent','location','date','total_cases','new_cases','new_deaths','total_deaths'])\n",
        "\n",
        "#covid_global_col\n",
        "\n",
        "#Seleccionamos los países a tratar\n",
        "\n",
        "\n",
        "#'ARG'\n",
        "#'CHN'\n",
        "#'USA'\n",
        "\n",
        "\n",
        "\n"
      ],
      "metadata": {
        "id": "kbKDkKduTTaT"
      },
      "execution_count": null,
      "outputs": []
    },
    {
      "cell_type": "code",
      "source": [
        "outer_merged = pd.merge(covid_global_col, vacunacion_filt, how=\"outer\", on=[\"iso_code\", \"date\"])\n",
        "\n",
        "#print(outer_merged)\n",
        "covid_merge=outer_merged[outer_merged['iso_code']=='AFG']\n",
        "covid_merge = covid_merge.fillna ({\"daily_vaccinations\": 0})\n",
        "\n",
        "#ID:{\n",
        "#'país':value,\n",
        "#'fecha':value,\n",
        "#'nuevos_casos':value,\n",
        "#'nuevas_muertes':value,\n",
        "#'total_vacunados':value\n",
        "#}\n",
        "\n",
        "{\n",
        "\n",
        " 0:{\n",
        "    'país': 'Afghanistan',\n",
        "    'fecha': '01/01/2021',\n",
        "    'nuevos_casos':100,\n",
        "    'nuevas_muertes':10,\n",
        "    'total_vacunados':50\n",
        " },\n",
        " 1:{\n",
        "    'país': 'Afghanistan',\n",
        "    'fecha': '02/01/2021',\n",
        "    'nuevos_casos':100,\n",
        "    'nuevas_muertes':10,\n",
        "    'total_vacunados':50\n",
        " }\n",
        "\n",
        "...\n",
        "\n",
        " 10:{\n",
        "    'país': 'Estados Unidos',\n",
        "    'fecha': '01/01/2021',\n",
        "    'nuevos_casos':100,\n",
        "    'nuevas_muertes':10,\n",
        "    'total_vacunados':50\n",
        "}\n",
        "\n",
        "\n",
        "},\n",
        "\n",
        "0: {\n",
        "'USA':{\n",
        "    'país': 'Estados Unidos',\n",
        "    'fecha': '01/01/2021',\n",
        "    'nuevos_casos':100,\n",
        "    'nuevas_muertes':10,\n",
        "    'total_vacunados':50\n",
        "},\n",
        "'USA':{\n",
        "    'país': 'Afghanistan',\n",
        "    'fecha': '02/01/2021',\n",
        "    'nuevos_casos':100,\n",
        "    'nuevas_muertes':10,\n",
        "    'total_vacunados':50\n",
        "}\n",
        "}\n",
        "}\n",
        "\n",
        "#covid_merge.to_dict()\n",
        "\n",
        "\n",
        "#covid_merge.to_csv('./sample_data/covid_merge.csv')\n",
        "#covid_global_col.add(vacunacion, fill_value=0)"
      ],
      "metadata": {
        "id": "Ic7kadfvofwU"
      },
      "execution_count": null,
      "outputs": []
    },
    {
      "cell_type": "markdown",
      "source": [
        "Gráfico 1 – Comparación de infectados en países sudamericanos.\n",
        "\n",
        "Ver los totales de vacunados para el rango de fechas y sacar conclusiones de los nuevos contagios y las nuevas muertes.\n",
        "\n",
        "Gráfico 2 – Comparación Argentina vs Estados Unidos vs China.\n",
        "\n",
        "Ver total de contagios y total de vacunados dentro del rango de fechas comparando Argentina contra los países más fuertes del mundo.\n",
        "\n",
        "Gráfico 3 – Comparación de países en estaciones climáticas diferentes.\n",
        "\n",
        "Ver nuevos contagiados para el rango de fechas y sacar conclusiones de los nuevos contagios con la premisa de que en países donde están transitando el invierno, la gente es más propensa a contagiarse.\n",
        "\n",
        "Gráfico 4 – Comparación de países representativos por continente.\n",
        "\n",
        "Seleccionando un país representativo por continente, hacer una comparación de total de vacunados para poder sacar conclusiones del nivel socio-económico influye en la vacunación de la población.\n",
        "\n"
      ],
      "metadata": {
        "id": "Lbt5JTlwwZkE"
      }
    },
    {
      "cell_type": "markdown",
      "source": [
        "## Limpieza de datos"
      ],
      "metadata": {
        "id": "SzAIToQjktGr"
      }
    },
    {
      "cell_type": "code",
      "source": [
        "# Ingrese código aquí"
      ],
      "metadata": {
        "id": "wUV9xn9LlEIU"
      },
      "execution_count": null,
      "outputs": []
    },
    {
      "cell_type": "code",
      "source": [
        "# Ingrese código aquí"
      ],
      "metadata": {
        "id": "fbRtOmINlD5c"
      },
      "execution_count": null,
      "outputs": []
    },
    {
      "cell_type": "code",
      "source": [
        "# Ingrese código aquí"
      ],
      "metadata": {
        "id": "6z-nbh5TlDX9"
      },
      "execution_count": null,
      "outputs": []
    },
    {
      "cell_type": "markdown",
      "source": [
        "## Transformación de datos"
      ],
      "metadata": {
        "id": "2_BcGv-BkyAS"
      }
    },
    {
      "cell_type": "code",
      "source": [
        "# Ingrese código aquí"
      ],
      "metadata": {
        "id": "PUXmMsRtlFm4"
      },
      "execution_count": null,
      "outputs": []
    },
    {
      "cell_type": "code",
      "source": [
        "# Ingrese código aquí"
      ],
      "metadata": {
        "id": "l9zoyloQlFZL"
      },
      "execution_count": null,
      "outputs": []
    },
    {
      "cell_type": "code",
      "source": [
        "# Ingrese código aquí"
      ],
      "metadata": {
        "id": "vZmzCfbwlFKl"
      },
      "execution_count": null,
      "outputs": []
    },
    {
      "cell_type": "markdown",
      "source": [
        "## Análisis y Visualizaciones\n",
        "\n",
        "*Ingrese su análisis aquí*\n"
      ],
      "metadata": {
        "id": "7hb5S74tk1rr"
      }
    },
    {
      "cell_type": "code",
      "source": [
        "# Ingrese código aquí"
      ],
      "metadata": {
        "id": "JY1QPSUUlHDX"
      },
      "execution_count": null,
      "outputs": []
    },
    {
      "cell_type": "code",
      "source": [
        "# Ingrese código aquí"
      ],
      "metadata": {
        "id": "2SToxURjlG3Y"
      },
      "execution_count": null,
      "outputs": []
    },
    {
      "cell_type": "code",
      "source": [
        "# Ingrese código aquí"
      ],
      "metadata": {
        "id": "reVnqsCXlGpt"
      },
      "execution_count": null,
      "outputs": []
    },
    {
      "cell_type": "markdown",
      "source": [
        "## Conclusión\n",
        "\n",
        "*Ingrese conclusión aquí*"
      ],
      "metadata": {
        "id": "SDoG7Ol5k5JN"
      }
    },
    {
      "cell_type": "code",
      "source": [
        "# Ingrese código aquí"
      ],
      "metadata": {
        "id": "JS2X5GQnlIYb"
      },
      "execution_count": null,
      "outputs": []
    },
    {
      "cell_type": "markdown",
      "source": [
        "## Almacenamiento de resultados"
      ],
      "metadata": {
        "id": "N7_qJtlek90u"
      }
    },
    {
      "cell_type": "code",
      "source": [
        "# Ingrese código aquí"
      ],
      "metadata": {
        "id": "vEwQheo0lJJf"
      },
      "execution_count": null,
      "outputs": []
    }
  ]
}